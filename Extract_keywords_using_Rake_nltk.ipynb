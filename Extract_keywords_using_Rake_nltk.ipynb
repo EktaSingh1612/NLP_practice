{
  "nbformat": 4,
  "nbformat_minor": 0,
  "metadata": {
    "colab": {
      "provenance": []
    },
    "kernelspec": {
      "name": "python3",
      "display_name": "Python 3"
    },
    "language_info": {
      "name": "python"
    }
  },
  "cells": [
    {
      "cell_type": "markdown",
      "source": [
        "# Extract keywords using Python\n",
        "\n",
        "### So why do we need to extract keywords from a paragraph.\n",
        "\n",
        "The process of extracting keywords helps identifying the importance of words in a text.\n",
        "There are so many Python libraries for extracting keywords for eg., spaCy, Rake-Nltk, YAKE etc.\n",
        "\n",
        "In this notebook we will use Rake-NLTK.\n",
        "\n",
        "RAKE - Rapid Automatic Keyword Extraction"
      ],
      "metadata": {
        "id": "jbjIVGKCreUD"
      }
    },
    {
      "cell_type": "markdown",
      "source": [
        "## Installing rake_nltk library using pip"
      ],
      "metadata": {
        "id": "1kh6Hw0Cs-ou"
      }
    },
    {
      "cell_type": "code",
      "execution_count": 1,
      "metadata": {
        "colab": {
          "base_uri": "https://localhost:8080/"
        },
        "id": "GaQkAznmrT3M",
        "outputId": "1e408717-cbc4-449e-ec27-badc0c79ba2d"
      },
      "outputs": [
        {
          "output_type": "stream",
          "name": "stdout",
          "text": [
            "Looking in indexes: https://pypi.org/simple, https://us-python.pkg.dev/colab-wheels/public/simple/\n",
            "Collecting rake_nltk\n",
            "  Downloading rake_nltk-1.0.6-py3-none-any.whl (9.1 kB)\n",
            "Requirement already satisfied: nltk<4.0.0,>=3.6.2 in /usr/local/lib/python3.8/dist-packages (from rake_nltk) (3.7)\n",
            "Requirement already satisfied: click in /usr/local/lib/python3.8/dist-packages (from nltk<4.0.0,>=3.6.2->rake_nltk) (7.1.2)\n",
            "Requirement already satisfied: joblib in /usr/local/lib/python3.8/dist-packages (from nltk<4.0.0,>=3.6.2->rake_nltk) (1.2.0)\n",
            "Requirement already satisfied: tqdm in /usr/local/lib/python3.8/dist-packages (from nltk<4.0.0,>=3.6.2->rake_nltk) (4.64.1)\n",
            "Requirement already satisfied: regex>=2021.8.3 in /usr/local/lib/python3.8/dist-packages (from nltk<4.0.0,>=3.6.2->rake_nltk) (2022.6.2)\n",
            "Installing collected packages: rake-nltk\n",
            "Successfully installed rake-nltk-1.0.6\n"
          ]
        }
      ],
      "source": [
        "! pip install rake_nltk"
      ]
    },
    {
      "cell_type": "code",
      "source": [
        "import nltk\n",
        "nltk.download('stopwords')\n",
        "nltk.download('punkt')"
      ],
      "metadata": {
        "colab": {
          "base_uri": "https://localhost:8080/"
        },
        "id": "206CsPHRvvKp",
        "outputId": "0776f071-883d-4bac-f144-90a4c9abf26a"
      },
      "execution_count": 2,
      "outputs": [
        {
          "output_type": "stream",
          "name": "stderr",
          "text": [
            "[nltk_data] Downloading package stopwords to /root/nltk_data...\n",
            "[nltk_data]   Unzipping corpora/stopwords.zip.\n",
            "[nltk_data] Downloading package punkt to /root/nltk_data...\n",
            "[nltk_data]   Unzipping tokenizers/punkt.zip.\n"
          ]
        },
        {
          "output_type": "execute_result",
          "data": {
            "text/plain": [
              "True"
            ]
          },
          "metadata": {},
          "execution_count": 2
        }
      ]
    },
    {
      "cell_type": "markdown",
      "source": [
        "## Importing the Rake module from rake_nltk library"
      ],
      "metadata": {
        "id": "LkMKK4DNtHOV"
      }
    },
    {
      "cell_type": "code",
      "source": [
        "from rake_nltk import Rake\n",
        "from nltk.corpus import stopwords \n",
        "rake_nltk_var = Rake()"
      ],
      "metadata": {
        "id": "s40eKmiRs4jE"
      },
      "execution_count": 3,
      "outputs": []
    },
    {
      "cell_type": "markdown",
      "source": [
        "## Storing some text into a variable"
      ],
      "metadata": {
        "id": "6Dje_reYtlvr"
      }
    },
    {
      "cell_type": "code",
      "source": [
        "text='''Python is a high-level, general-purpose programming language. Its design philosophy emphasizes code readability with the use of significant indentation.\n",
        "Python is dynamically-typed and garbage-collected. \n",
        "It supports multiple programming paradigms, including structured (particularly procedural), object-oriented and functional programming. \n",
        "It is often described as a \"batteries included\" language due to its comprehensive standard library.\n",
        "Guido van Rossum began working on Python in the late 1980s as a successor to the ABC programming language and first released it in 1991 as Python 0.9.0. \n",
        "Python 2.0 was released in 2000 and introduced new features such as list comprehensions, cycle-detecting garbage collection, reference counting, and Unicode support. \n",
        "Python 3.0, released in 2008, was a major revision that is not completely backward-compatible with earlier versions. \n",
        "Python 2 was discontinued with version 2.7.18 in 2020.'''"
      ],
      "metadata": {
        "id": "r7rEAXg3s4mg"
      },
      "execution_count": 4,
      "outputs": []
    },
    {
      "cell_type": "markdown",
      "source": [
        "## Extracting the keywords from text and print the output."
      ],
      "metadata": {
        "id": "4EsDMANzudjl"
      }
    },
    {
      "cell_type": "code",
      "source": [
        "rake_nltk_var.extract_keywords_from_text(text)\n",
        "keyword_extracted = rake_nltk_var.get_ranked_phrases()\n",
        "print(keyword_extracted)"
      ],
      "metadata": {
        "colab": {
          "base_uri": "https://localhost:8080/"
        },
        "id": "UE2Bi2AYs4p7",
        "outputId": "83aeaaff-18a7-45e6-b328-6222861fe41b"
      },
      "execution_count": 5,
      "outputs": [
        {
          "output_type": "stream",
          "name": "stdout",
          "text": [
            "['guido van rossum began working', 'design philosophy emphasizes code readability', 'particularly procedural ), object', 'supports multiple programming paradigms', 'introduced new features', 'comprehensive standard library', 'purpose programming language', 'abc programming language', 'detecting garbage collection', 'functional programming', 'language due', 'version 2', 'unicode support', 'significant indentation', 'reference counting', 'often described', 'major revision', 'list comprehensions', 'late 1980s', 'including structured', 'earlier versions', 'completely backward', 'batteries included', 'python 3', 'python 2', 'python 2', 'first released', 'python 0', 'garbage', 'python', 'python', 'python', 'released', 'released', '0', '0', '0', 'use', 'typed', 'successor', 'oriented', 'level', 'high', 'general', 'dynamically', 'discontinued', 'cycle', 'compatible', 'collected', '9', '7', '2020', '2008', '2000', '1991', '18']\n"
          ]
        }
      ]
    }
  ]
}